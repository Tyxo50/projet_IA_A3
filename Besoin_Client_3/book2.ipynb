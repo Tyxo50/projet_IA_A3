{
 "cells": [
  {
   "cell_type": "code",
   "id": "initial_id",
   "metadata": {
    "collapsed": true,
    "ExecuteTime": {
     "end_time": "2024-06-17T16:45:07.130621Z",
     "start_time": "2024-06-17T16:45:07.091972Z"
    }
   },
   "source": [
    "import pandas as pd\n",
    "import numpy as np\n",
    "\n",
    "# import du csv\n",
    "data = pd.read_csv('csv_correction.csv')\n",
    "#data.info()"
   ],
   "outputs": [],
   "execution_count": 519
  },
  {
   "metadata": {
    "ExecuteTime": {
     "end_time": "2024-06-17T16:45:07.271026Z",
     "start_time": "2024-06-17T16:45:07.267726Z"
    }
   },
   "cell_type": "code",
   "source": [
    "from sklearn import preprocessing, feature_selection, model_selection\n",
    "from sklearn.ensemble import RandomForestClassifier\n",
    "from sklearn.model_selection import GridSearchCV, train_test_split\n",
    "from sklearn.metrics import confusion_matrix, ConfusionMatrixDisplay\n",
    "from sklearn.model_selection import cross_val_predict, cross_val_score\n",
    "import time\n"
   ],
   "id": "91937788f1d7db2",
   "outputs": [],
   "execution_count": 520
  },
  {
   "metadata": {
    "ExecuteTime": {
     "end_time": "2024-06-17T16:45:07.320947Z",
     "start_time": "2024-06-17T16:45:07.313131Z"
    }
   },
   "cell_type": "code",
   "source": "data['fk_arb_etat_bool'] = data['fk_arb_etat'].replace(['ABATTU', 'EN PLACE', 'Non essouché', 'REMPLACÉ','SUPPRIMÉ'],'non essouché')",
   "id": "fe4424a275c94684",
   "outputs": [],
   "execution_count": 521
  },
  {
   "metadata": {
    "ExecuteTime": {
     "end_time": "2024-06-17T16:45:07.367160Z",
     "start_time": "2024-06-17T16:45:07.347055Z"
    }
   },
   "cell_type": "code",
   "source": "data",
   "id": "7cc361698cdfb3e0",
   "outputs": [
    {
     "data": {
      "text/plain": [
       "      longitude   latitude              clc_quartier              clc_secteur   \n",
       "0      3.293264  49.840500  Quartier du Centre-Ville              Quai Gayant  \\\n",
       "1      3.273380  49.861409    Quartier du Vermandois               Stade Cepy   \n",
       "2      3.289068  49.844513  Quartier du Centre-Ville    Rue Villebois Mareuil   \n",
       "3      3.302387  49.861778      Quartier de l'Europe   Square des Marronniers   \n",
       "4      3.304047  49.858446      Quartier de l'Europe            Avenue Buffon   \n",
       "...         ...        ...                       ...                      ...   \n",
       "7404   3.283505  49.848695  Quartier du Centre-Ville     Place Edouard Branly   \n",
       "7405   3.283436  49.848682  Quartier du Centre-Ville     Place Edouard Branly   \n",
       "7406   3.297078  49.860413      Quartier de l'Europe                rue Hertz   \n",
       "7407   3.291685  49.848009  Quartier du Centre-Ville      Square rue Fréreuse   \n",
       "7408   3.301788  49.861503      Quartier de l'Europe  square des marronniers    \n",
       "\n",
       "      haut_tot  haut_tronc  tronc_diam fk_arb_etat fk_stadedev     fk_port   \n",
       "0          6.0         2.0        37.0    EN PLACE       Jeune  semi libre  \\\n",
       "1         13.0         1.0       160.0    EN PLACE      Adulte  semi libre   \n",
       "2         12.0         3.0       116.0    REMPLACÉ      Adulte  semi libre   \n",
       "3         16.0         3.0       150.0    EN PLACE      Adulte  semi libre   \n",
       "4          5.0         2.0       170.0    Essouché      Adulte      réduit   \n",
       "...        ...         ...         ...         ...         ...         ...   \n",
       "7404       3.0         2.0        15.0    EN PLACE       Jeune       Libre   \n",
       "7405       3.0         2.0        15.0    EN PLACE       Jeune       Libre   \n",
       "7406       3.0         2.0        15.0    EN PLACE       Jeune       Libre   \n",
       "7407       3.0         2.0        15.0    EN PLACE       Jeune       Libre   \n",
       "7408       3.0         2.0        15.0    EN PLACE       Jeune       Libre   \n",
       "\n",
       "      ... fk_situation fk_revetement age_estim  fk_prec_estim  clc_nbr_diag   \n",
       "0     ...   Alignement           Non      15.0            5.0           0.0  \\\n",
       "1     ...       Groupe           Non      50.0           10.0           0.0   \n",
       "2     ...   Alignement           Non      30.0           10.0           0.0   \n",
       "3     ...       Groupe           Non      50.0            2.0           0.0   \n",
       "4     ...        Isolé           Non      40.0            2.0           0.0   \n",
       "...   ...          ...           ...       ...            ...           ...   \n",
       "7404  ...        Isolé           Non       5.0            1.0           0.0   \n",
       "7405  ...        Isolé           Non       3.0            1.0           0.0   \n",
       "7406  ...        Isolé           Non       5.0            1.0           0.0   \n",
       "7407  ...   Alignement           Non       5.0            1.0           0.0   \n",
       "7408  ...        Isolé           Non       5.0            1.0           0.0   \n",
       "\n",
       "        fk_nomtech villeca feuillage remarquable fk_arb_etat_bool  \n",
       "0           QUERUB   VILLE   Feuillu         Non     non essouché  \n",
       "1        PINNIGnig   VILLE  Conifère         Non     non essouché  \n",
       "2           ACEPSE   VILLE   Feuillu         Non     non essouché  \n",
       "3           ACEPLA   VILLE   Feuillu         Non     non essouché  \n",
       "4           SALBAB   VILLE   Feuillu         Non         Essouché  \n",
       "...            ...     ...       ...         ...              ...  \n",
       "7404        ALBJUL   VILLE   Feuillu         Non     non essouché  \n",
       "7405     ALBJULcho   VILLE   Feuillu         Non     non essouché  \n",
       "7406        CEDLIB   VILLE  Conifère         Non     non essouché  \n",
       "7407  FAGSYLdawgol   VILLE   Feuillu         Non     non essouché  \n",
       "7408        LIRTUL   VILLE   Feuillu         Non     non essouché  \n",
       "\n",
       "[7409 rows x 21 columns]"
      ],
      "text/html": [
       "<div>\n",
       "<style scoped>\n",
       "    .dataframe tbody tr th:only-of-type {\n",
       "        vertical-align: middle;\n",
       "    }\n",
       "\n",
       "    .dataframe tbody tr th {\n",
       "        vertical-align: top;\n",
       "    }\n",
       "\n",
       "    .dataframe thead th {\n",
       "        text-align: right;\n",
       "    }\n",
       "</style>\n",
       "<table border=\"1\" class=\"dataframe\">\n",
       "  <thead>\n",
       "    <tr style=\"text-align: right;\">\n",
       "      <th></th>\n",
       "      <th>longitude</th>\n",
       "      <th>latitude</th>\n",
       "      <th>clc_quartier</th>\n",
       "      <th>clc_secteur</th>\n",
       "      <th>haut_tot</th>\n",
       "      <th>haut_tronc</th>\n",
       "      <th>tronc_diam</th>\n",
       "      <th>fk_arb_etat</th>\n",
       "      <th>fk_stadedev</th>\n",
       "      <th>fk_port</th>\n",
       "      <th>...</th>\n",
       "      <th>fk_situation</th>\n",
       "      <th>fk_revetement</th>\n",
       "      <th>age_estim</th>\n",
       "      <th>fk_prec_estim</th>\n",
       "      <th>clc_nbr_diag</th>\n",
       "      <th>fk_nomtech</th>\n",
       "      <th>villeca</th>\n",
       "      <th>feuillage</th>\n",
       "      <th>remarquable</th>\n",
       "      <th>fk_arb_etat_bool</th>\n",
       "    </tr>\n",
       "  </thead>\n",
       "  <tbody>\n",
       "    <tr>\n",
       "      <th>0</th>\n",
       "      <td>3.293264</td>\n",
       "      <td>49.840500</td>\n",
       "      <td>Quartier du Centre-Ville</td>\n",
       "      <td>Quai Gayant</td>\n",
       "      <td>6.0</td>\n",
       "      <td>2.0</td>\n",
       "      <td>37.0</td>\n",
       "      <td>EN PLACE</td>\n",
       "      <td>Jeune</td>\n",
       "      <td>semi libre</td>\n",
       "      <td>...</td>\n",
       "      <td>Alignement</td>\n",
       "      <td>Non</td>\n",
       "      <td>15.0</td>\n",
       "      <td>5.0</td>\n",
       "      <td>0.0</td>\n",
       "      <td>QUERUB</td>\n",
       "      <td>VILLE</td>\n",
       "      <td>Feuillu</td>\n",
       "      <td>Non</td>\n",
       "      <td>non essouché</td>\n",
       "    </tr>\n",
       "    <tr>\n",
       "      <th>1</th>\n",
       "      <td>3.273380</td>\n",
       "      <td>49.861409</td>\n",
       "      <td>Quartier du Vermandois</td>\n",
       "      <td>Stade Cepy</td>\n",
       "      <td>13.0</td>\n",
       "      <td>1.0</td>\n",
       "      <td>160.0</td>\n",
       "      <td>EN PLACE</td>\n",
       "      <td>Adulte</td>\n",
       "      <td>semi libre</td>\n",
       "      <td>...</td>\n",
       "      <td>Groupe</td>\n",
       "      <td>Non</td>\n",
       "      <td>50.0</td>\n",
       "      <td>10.0</td>\n",
       "      <td>0.0</td>\n",
       "      <td>PINNIGnig</td>\n",
       "      <td>VILLE</td>\n",
       "      <td>Conifère</td>\n",
       "      <td>Non</td>\n",
       "      <td>non essouché</td>\n",
       "    </tr>\n",
       "    <tr>\n",
       "      <th>2</th>\n",
       "      <td>3.289068</td>\n",
       "      <td>49.844513</td>\n",
       "      <td>Quartier du Centre-Ville</td>\n",
       "      <td>Rue Villebois Mareuil</td>\n",
       "      <td>12.0</td>\n",
       "      <td>3.0</td>\n",
       "      <td>116.0</td>\n",
       "      <td>REMPLACÉ</td>\n",
       "      <td>Adulte</td>\n",
       "      <td>semi libre</td>\n",
       "      <td>...</td>\n",
       "      <td>Alignement</td>\n",
       "      <td>Non</td>\n",
       "      <td>30.0</td>\n",
       "      <td>10.0</td>\n",
       "      <td>0.0</td>\n",
       "      <td>ACEPSE</td>\n",
       "      <td>VILLE</td>\n",
       "      <td>Feuillu</td>\n",
       "      <td>Non</td>\n",
       "      <td>non essouché</td>\n",
       "    </tr>\n",
       "    <tr>\n",
       "      <th>3</th>\n",
       "      <td>3.302387</td>\n",
       "      <td>49.861778</td>\n",
       "      <td>Quartier de l'Europe</td>\n",
       "      <td>Square des Marronniers</td>\n",
       "      <td>16.0</td>\n",
       "      <td>3.0</td>\n",
       "      <td>150.0</td>\n",
       "      <td>EN PLACE</td>\n",
       "      <td>Adulte</td>\n",
       "      <td>semi libre</td>\n",
       "      <td>...</td>\n",
       "      <td>Groupe</td>\n",
       "      <td>Non</td>\n",
       "      <td>50.0</td>\n",
       "      <td>2.0</td>\n",
       "      <td>0.0</td>\n",
       "      <td>ACEPLA</td>\n",
       "      <td>VILLE</td>\n",
       "      <td>Feuillu</td>\n",
       "      <td>Non</td>\n",
       "      <td>non essouché</td>\n",
       "    </tr>\n",
       "    <tr>\n",
       "      <th>4</th>\n",
       "      <td>3.304047</td>\n",
       "      <td>49.858446</td>\n",
       "      <td>Quartier de l'Europe</td>\n",
       "      <td>Avenue Buffon</td>\n",
       "      <td>5.0</td>\n",
       "      <td>2.0</td>\n",
       "      <td>170.0</td>\n",
       "      <td>Essouché</td>\n",
       "      <td>Adulte</td>\n",
       "      <td>réduit</td>\n",
       "      <td>...</td>\n",
       "      <td>Isolé</td>\n",
       "      <td>Non</td>\n",
       "      <td>40.0</td>\n",
       "      <td>2.0</td>\n",
       "      <td>0.0</td>\n",
       "      <td>SALBAB</td>\n",
       "      <td>VILLE</td>\n",
       "      <td>Feuillu</td>\n",
       "      <td>Non</td>\n",
       "      <td>Essouché</td>\n",
       "    </tr>\n",
       "    <tr>\n",
       "      <th>...</th>\n",
       "      <td>...</td>\n",
       "      <td>...</td>\n",
       "      <td>...</td>\n",
       "      <td>...</td>\n",
       "      <td>...</td>\n",
       "      <td>...</td>\n",
       "      <td>...</td>\n",
       "      <td>...</td>\n",
       "      <td>...</td>\n",
       "      <td>...</td>\n",
       "      <td>...</td>\n",
       "      <td>...</td>\n",
       "      <td>...</td>\n",
       "      <td>...</td>\n",
       "      <td>...</td>\n",
       "      <td>...</td>\n",
       "      <td>...</td>\n",
       "      <td>...</td>\n",
       "      <td>...</td>\n",
       "      <td>...</td>\n",
       "      <td>...</td>\n",
       "    </tr>\n",
       "    <tr>\n",
       "      <th>7404</th>\n",
       "      <td>3.283505</td>\n",
       "      <td>49.848695</td>\n",
       "      <td>Quartier du Centre-Ville</td>\n",
       "      <td>Place Edouard Branly</td>\n",
       "      <td>3.0</td>\n",
       "      <td>2.0</td>\n",
       "      <td>15.0</td>\n",
       "      <td>EN PLACE</td>\n",
       "      <td>Jeune</td>\n",
       "      <td>Libre</td>\n",
       "      <td>...</td>\n",
       "      <td>Isolé</td>\n",
       "      <td>Non</td>\n",
       "      <td>5.0</td>\n",
       "      <td>1.0</td>\n",
       "      <td>0.0</td>\n",
       "      <td>ALBJUL</td>\n",
       "      <td>VILLE</td>\n",
       "      <td>Feuillu</td>\n",
       "      <td>Non</td>\n",
       "      <td>non essouché</td>\n",
       "    </tr>\n",
       "    <tr>\n",
       "      <th>7405</th>\n",
       "      <td>3.283436</td>\n",
       "      <td>49.848682</td>\n",
       "      <td>Quartier du Centre-Ville</td>\n",
       "      <td>Place Edouard Branly</td>\n",
       "      <td>3.0</td>\n",
       "      <td>2.0</td>\n",
       "      <td>15.0</td>\n",
       "      <td>EN PLACE</td>\n",
       "      <td>Jeune</td>\n",
       "      <td>Libre</td>\n",
       "      <td>...</td>\n",
       "      <td>Isolé</td>\n",
       "      <td>Non</td>\n",
       "      <td>3.0</td>\n",
       "      <td>1.0</td>\n",
       "      <td>0.0</td>\n",
       "      <td>ALBJULcho</td>\n",
       "      <td>VILLE</td>\n",
       "      <td>Feuillu</td>\n",
       "      <td>Non</td>\n",
       "      <td>non essouché</td>\n",
       "    </tr>\n",
       "    <tr>\n",
       "      <th>7406</th>\n",
       "      <td>3.297078</td>\n",
       "      <td>49.860413</td>\n",
       "      <td>Quartier de l'Europe</td>\n",
       "      <td>rue Hertz</td>\n",
       "      <td>3.0</td>\n",
       "      <td>2.0</td>\n",
       "      <td>15.0</td>\n",
       "      <td>EN PLACE</td>\n",
       "      <td>Jeune</td>\n",
       "      <td>Libre</td>\n",
       "      <td>...</td>\n",
       "      <td>Isolé</td>\n",
       "      <td>Non</td>\n",
       "      <td>5.0</td>\n",
       "      <td>1.0</td>\n",
       "      <td>0.0</td>\n",
       "      <td>CEDLIB</td>\n",
       "      <td>VILLE</td>\n",
       "      <td>Conifère</td>\n",
       "      <td>Non</td>\n",
       "      <td>non essouché</td>\n",
       "    </tr>\n",
       "    <tr>\n",
       "      <th>7407</th>\n",
       "      <td>3.291685</td>\n",
       "      <td>49.848009</td>\n",
       "      <td>Quartier du Centre-Ville</td>\n",
       "      <td>Square rue Fréreuse</td>\n",
       "      <td>3.0</td>\n",
       "      <td>2.0</td>\n",
       "      <td>15.0</td>\n",
       "      <td>EN PLACE</td>\n",
       "      <td>Jeune</td>\n",
       "      <td>Libre</td>\n",
       "      <td>...</td>\n",
       "      <td>Alignement</td>\n",
       "      <td>Non</td>\n",
       "      <td>5.0</td>\n",
       "      <td>1.0</td>\n",
       "      <td>0.0</td>\n",
       "      <td>FAGSYLdawgol</td>\n",
       "      <td>VILLE</td>\n",
       "      <td>Feuillu</td>\n",
       "      <td>Non</td>\n",
       "      <td>non essouché</td>\n",
       "    </tr>\n",
       "    <tr>\n",
       "      <th>7408</th>\n",
       "      <td>3.301788</td>\n",
       "      <td>49.861503</td>\n",
       "      <td>Quartier de l'Europe</td>\n",
       "      <td>square des marronniers</td>\n",
       "      <td>3.0</td>\n",
       "      <td>2.0</td>\n",
       "      <td>15.0</td>\n",
       "      <td>EN PLACE</td>\n",
       "      <td>Jeune</td>\n",
       "      <td>Libre</td>\n",
       "      <td>...</td>\n",
       "      <td>Isolé</td>\n",
       "      <td>Non</td>\n",
       "      <td>5.0</td>\n",
       "      <td>1.0</td>\n",
       "      <td>0.0</td>\n",
       "      <td>LIRTUL</td>\n",
       "      <td>VILLE</td>\n",
       "      <td>Feuillu</td>\n",
       "      <td>Non</td>\n",
       "      <td>non essouché</td>\n",
       "    </tr>\n",
       "  </tbody>\n",
       "</table>\n",
       "<p>7409 rows × 21 columns</p>\n",
       "</div>"
      ]
     },
     "execution_count": 522,
     "metadata": {},
     "output_type": "execute_result"
    }
   ],
   "execution_count": 522
  },
  {
   "metadata": {},
   "cell_type": "markdown",
   "source": "## Grid Search",
   "id": "25476db91cea4b08"
  },
  {
   "metadata": {
    "ExecuteTime": {
     "end_time": "2024-06-17T16:45:07.397811Z",
     "start_time": "2024-06-17T16:45:07.368230Z"
    }
   },
   "cell_type": "code",
   "source": [
    "list_col = ['fk_stadedev', 'fk_arb_etat', 'fk_arb_etat_bool', 'clc_quartier', 'clc_secteur', 'feuillage', 'fk_port', 'fk_situation', 'fk_nomtech']\n",
    "for col in list_col:\n",
    "  encoder = preprocessing.OrdinalEncoder()\n",
    "  fk_stadedev_encoded = encoder.fit_transform(data[[col]])\n",
    "  print(encoder.categories_)\n",
    "  data[col] = fk_stadedev_encoded"
   ],
   "id": "b136872b5648881c",
   "outputs": [
    {
     "name": "stdout",
     "output_type": "stream",
     "text": [
      "[array(['Adulte', 'Jeune', 'senescent', 'vieux'], dtype=object)]\n",
      "[array(['ABATTU', 'EN PLACE', 'Essouché', 'Non essouché', 'REMPLACÉ',\n",
      "       'SUPPRIMÉ'], dtype=object)]\n",
      "[array(['Essouché', 'non essouché'], dtype=object)]\n",
      "[array(['HARLY', 'OMISSY', 'Quartier Remicourt', 'Quartier Saint-Jean',\n",
      "       'Quartier Saint-Martin - Oëstres', 'Quartier de Neuville',\n",
      "       \"Quartier de l'Europe\", 'Quartier du Centre-Ville',\n",
      "       'Quartier du Vermandois', \"Quartier du faubourg d'Isle\", 'ROUVROY'],\n",
      "      dtype=object)]\n",
      "[array(['Accueil de loisirs Kergomard', 'Ancienne ecole David et Maigret',\n",
      "       'Auberge de jeunesse', 'Avenue Aristide Briand', 'Avenue Buffon',\n",
      "       'Avenue Charles Feuillette', 'Avenue Faidherbe',\n",
      "       'Avenue Léo Lagrange', 'Avenue Pierre Chocquart',\n",
      "       'Avenue Pierre Choquart', 'Avenue Robert Schuman',\n",
      "       'Avenue de la Paix', 'Avenue de la République',\n",
      "       'Avenue de la Résistance',\n",
      "       'Avenue des Fusillés de Fontaine Notre Dame',\n",
      "       'Avenue du Cimetière de La Tombelle',\n",
      "       'Avenue du Général de Gaulle', 'Banque alimentaire',\n",
      "       'Bibliothèque Guy de Maupassant', 'Boulevard Cordier',\n",
      "       'Boulevard Gambetta', 'Boulevard Henri Martin',\n",
      "       'Boulevard Jean Bouin', 'Boulevard Léon Blum',\n",
      "       'Boulevard Richelieu', 'Boulevard Roosevelt',\n",
      "       'Boulevard Victor Hugo', 'Boulevard de Verdun',\n",
      "       'Boulevard du Docteur Camille Guérin',\n",
      "       'Boulevard du Docteur Schweitzer', 'Boulevard du Maréchal Juin',\n",
      "       'CCAS', 'Centre commercial Neuville', 'Centre de formation Bachy',\n",
      "       'Centre multi-sport Pierre Arnould',\n",
      "       'Centre social Champagne - Artois', 'Chemin Saint Laurent',\n",
      "       'Chemin de Lehaucourt', 'Chemin de Morcourt',\n",
      "       'Chemin rural dit vieux chemin de Saint Quentin à Ribermont',\n",
      "       'Cimetière Saint-Jean', 'Cimetière Sud',\n",
      "       'Cimetière de la Tombelle', \"Cimetière sud - chemin d'Harly\",\n",
      "       \"Communauté d'agglomération - Propriété privée - Tour y val\",\n",
      "       'Ecole maternelle Benjamin Rouché',\n",
      "       'Ecole maternelle Ernest Lavisse',\n",
      "       'Ecole maternelle François Collery',\n",
      "       'Ecole maternelle Maria Montessori', 'Ecole maternelle Paul Bert',\n",
      "       'Ecole maternelle Pierre Laroche',\n",
      "       'Ecole maternelle Robert Schuman',\n",
      "       'Ecole maternelle des Girondins', 'Ecole maternelle des Patriotes',\n",
      "       'Ecole primaire François Collery', 'Ecole primaire Henri Arnould',\n",
      "       'Ecole primaire Paul Bert', 'Ecole primaire Pierre Laroche',\n",
      "       'Ecole primaire des Girondins',\n",
      "       'Ecole élémentaire Amédée Ozenfant',\n",
      "       'Ecole élémentaire Ernest Lavisse',\n",
      "       'Ecole élémentaire Eugène Corette', 'Eglise Jean XXIII',\n",
      "       'Entrée de ville Avenue Pierre Choquart',\n",
      "       'Entrée de ville RD 300 Rouvray', 'Entrée de ville rue de Paris',\n",
      "       'Entrée du Centre Hospitalier', 'Espace Henry Dunant',\n",
      "       'Espace Matisse', 'Espace de glisse',\n",
      "       'Groupe Scolaire Georges Bachy', 'Groupe scolaire Alfred Clin',\n",
      "       'Groupe scolaire Camille Desmoulins',\n",
      "       'Groupe scolaire Ferdinand Buisson',\n",
      "       'Groupe scolaire Jacques Prévert',\n",
      "       'Groupe scolaire Xavier Aubryet', 'Gymnase Bertrand Gamess',\n",
      "       'Gymnase Eugène Corette', 'Gymnase François Collery',\n",
      "       'Gymnase LEP', 'Gymnase Pierre Laroche', 'Gymnase Robert Schuman',\n",
      "       \"Jardin d'horticulture\", 'La Boisselle', 'Le million populaire',\n",
      "       'Local Espaces Verts Europe', \"Mairie annexe du Faubourg d'Isle\",\n",
      "       'Maison de la Petite enfance', 'Palais de Fervaques',\n",
      "       \"Parc animalier du Parc d'Isle\", \"Parc d'Isle Jacques Braconnier\",\n",
      "       'Parc des Champs-Elysées',\n",
      "       'Parc des Champs-Elysées : logement de fonction',\n",
      "       'Parcelle CO0456', 'Parking Arthur Gibert',\n",
      "       'Parking Ecole Ferdinand Buisson', 'Parvis Gare',\n",
      "       'Parvis Stade Paul Debrésie', 'Piscine Jean Bouin', 'Place Carnot',\n",
      "       'Place Cordier', 'Place Crommelin', 'Place Danton',\n",
      "       'Place Edouard Branly', 'Place Georges Bizet',\n",
      "       'Place Noël Regnier', 'Place Roterham', 'Place Stalingrad',\n",
      "       'Place de la Libération', 'Place des Girondins',\n",
      "       'Place du Docteur Petithomme', \"Place du Nain d'Alsace\",\n",
      "       'Quai Gayant', 'Rond Point Mc Donald',\n",
      "       'Rond point Georges Pompidou', 'Rond point Jean Bouin',\n",
      "       \"Route d'Amiens\", 'Route de Chauny', 'Rue Albert Calmette',\n",
      "       'Rue Albert Thomas', 'Rue Alexandre Dumas', 'Rue Alexandre Ribot',\n",
      "       'Rue Ampère', 'Rue André Godin', 'Rue Archimède', 'Rue Berthollet',\n",
      "       'Rue Boileau', \"Rue D'Ostende\", 'Rue Demoustier',\n",
      "       'Rue Emile Rousseau', 'Rue Emile Zola',\n",
      "       'Rue Emile et Raymond Pierret prolongé',\n",
      "       'Rue Emilie et Raymond Pierret', 'Rue Fleming', 'Rue Fournier',\n",
      "       'Rue François Mitterrand', 'Rue Galilée', 'Rue Gaston Bonnier',\n",
      "       'Rue Gay Lussac', 'Rue Geoffroy Saint-Hilaire',\n",
      "       'Rue Georges Brassens', 'Rue Georges Cuvier', 'Rue Gustave Eiffel',\n",
      "       'Rue Henri Barbusse', 'Rue Henri Dunant', 'Rue Henri Farman',\n",
      "       'Rue Hertz', 'Rue Hélène Boucher', 'Rue Jacky Tabar',\n",
      "       'Rue Jacques Blanchot', 'Rue Jean Cocteau', 'Rue Jean Falloux',\n",
      "       'Rue Jean Labouret', 'Rue Jean Mermoz', 'Rue Joliot Curie',\n",
      "       'Rue Joule', 'Rue Laplace', 'Rue Leon Lemire', 'Rue Louis Bréguet',\n",
      "       'Rue Louis Galvani', 'Rue Marconi', 'Rue Mariotte', 'Rue Pontoile',\n",
      "       'Rue Raoul Huguet', 'Rue Roland Garros', 'Rue Salvador Allende',\n",
      "       'Rue Villebois Mareuil', \"Rue d'Aboukir\", \"Rue d'Alembert\",\n",
      "       \"Rue d'Amiens prolongée\", \"Rue d'Artois\",\n",
      "       \"Rue d'Artois Terrain de jeu\", 'Rue de Baudreuil', 'Rue de Ham',\n",
      "       'Rue de Lille', 'Rue de Normandie', 'Rue de Paris',\n",
      "       'Rue de Phalsbourg', 'Rue de Tour-Y-Val', 'Rue de Touraine',\n",
      "       'Rue de Tourcoing', 'Rue de Vermand', 'Rue de la Chaussée Romaine',\n",
      "       'Rue de la Convention', 'Rue de la Croix Saint-Claude',\n",
      "       'Rue de la Fere', 'Rue de la Fère', 'Rue de la Mayenne',\n",
      "       'Rue des Anciens Combattants en Afrique du Nord', 'Rue des Arts',\n",
      "       'Rue des Corbeaux', 'Rue des Frères Lumière', 'Rue des Glacis',\n",
      "       'Rue des Jacobins', 'Rue des Vieux ménages',\n",
      "       'Rue du Capitaine Dumont', 'Rue du Cardinal Saliège',\n",
      "       'Rue du Colonel Driant', 'Rue du Commandant Charcot',\n",
      "       'Rue du Docteur Cordier', 'Rue du Général Leclerc',\n",
      "       'Rue du Général Raymond Appert', 'Rue du Maréchal Foch',\n",
      "       'Rue du Président John Fitzgerald Kennedy',\n",
      "       'Rue du Très Révérend Père Léon Jean Dehon', 'Ruelle Carlier',\n",
      "       'Résidence Charleroi', 'Résidence OPAC rue du Docteur Cordier',\n",
      "       'Salle Charles de Foucauld', 'Salle Paringault',\n",
      "       'Salle Vermand Fayet', 'Square Albert Thomas',\n",
      "       'Square André Malraux', 'Square Churchill', 'Square Gaston Massot',\n",
      "       'Square Marché Franc', 'Square Pierre Boulard',\n",
      "       'Square Quentin de la Tour', 'Square Raoul Huguet',\n",
      "       'Square Rocourt', 'Square Romain Tricoteaux', 'Square Saint Jean',\n",
      "       'Square de Kaiserlautern', 'Square de la 2ème DB',\n",
      "       'Square des Héros du 2 Septembre 1944', 'Square des Marronniers',\n",
      "       'Square rue Fréreuse', 'Square rue du Blanc Mont', 'Stade Cepy',\n",
      "       'Stade Gaston Massot', 'Stade Marcel Bienfait',\n",
      "       'Stade Paul Debrésie', 'Stade municipal plein air',\n",
      "       'Terrain aventure Europe', 'Terrain aventure Neuville',\n",
      "       'Terrain de mini golf', \"Verger du Parc d'Isle\",\n",
      "       'Verger du théâtre de la manufacture', 'rue Hertz',\n",
      "       'square des marronniers '], dtype=object)]\n",
      "[array(['Conifère', 'Feuillu'], dtype=object)]\n",
      "[array(['Couronne', 'Libre', 'Semi libre', 'architecturé', 'cépée',\n",
      "       'rideau', 'réduit', 'réduit relâché', 'semi libre', 'têtard',\n",
      "       'têtard relâché', 'tête de chat', 'tête de chat relaché', 'étêté'],\n",
      "      dtype=object)]\n",
      "[array(['Alignement', 'Groupe', 'Isolé'], dtype=object)]\n",
      "[array(['ABI', 'ABICON', 'ABIGLA', 'ABILASari', 'ABINOR', 'ABINUM', 'ACE',\n",
      "       'ACECAM', 'ACECAMele', 'ACECAMred', 'ACECAMros', 'ACECAP',\n",
      "       'ACENEG', 'ACENEGvar', 'ACEPAL', 'ACEPLA', 'ACEPLAcol',\n",
      "       'ACEPLAcri', 'ACEPLAfai', 'ACEPLApur', 'ACEPSE', 'ACEPSEatr',\n",
      "       'ACEPSEleo', 'ACERUB', 'ACESAC', 'ACESACwie', 'AESCAR', 'AESHIP',\n",
      "       'AEShom', 'AILALT', 'ALBJUL', 'ALBJULcho', 'ALNCOR', 'ALNGLU',\n",
      "       'ALNGLUimp', 'ALNSPA', 'AMELAM', 'BETPAP', 'BETPEN', 'BETPENyou',\n",
      "       'BETUTIjac', 'BUXSEM', 'CARBET', 'CARBETfas', 'CASSAT', 'CATBIG',\n",
      "       'CEDATL', 'CEDATLgla', 'CEDATLpen', 'CEDDEO', 'CEDLIB', 'CERSIL',\n",
      "       'CHALAW', 'CHANOO', 'CORAVE', 'CORCOL', 'CORKOU', 'CRALAEpau',\n",
      "       'CRAMON', 'CRYJAP', 'CUP', 'CUPARI', 'CUPARIgla', 'CUPLEY',\n",
      "       'CUPLEYvar', 'CUPSEM', 'CUPfas', 'CYDVULbou', 'ELAANG', 'FAGSYL',\n",
      "       'FAGSYLdawgol', 'FAGSYLdawpur', 'FAGSYLfas', 'FAGSYLpen',\n",
      "       'FAGSYLpur', 'FRAAME', 'FRAANG', 'FRAANGray', 'FRAEXC',\n",
      "       'FRAEXCpen', 'FRAORN', 'FRAPEN', 'FRAPENcim', 'GINBIL', 'GLETRI',\n",
      "       'GLETRIine', 'GLETRIsun', 'ILEAQU', 'JUGREG', 'JUNMEDpfi',\n",
      "       'KOEPAN', 'LABANA', 'LAGIND', 'LARDEC', 'LIQSTY', 'LIRTUL',\n",
      "       'MAGGRA', 'MAGKOB', 'MAGSOU', 'MAGSOUhea', 'MAL', 'MALBAC',\n",
      "       'MALCOM', 'MALCOMgol', 'MALCOMtra', 'MALDOM', 'MALDOMast',\n",
      "       'MALDOMbel', 'MALDOMbos', 'MALDOMcal', 'MALDOMcox', 'MALDOMgra',\n",
      "       'MALDOMmel', 'MALDOMrei', 'MALPEN', 'MALPEReve', 'MALTOR',\n",
      "       'MALTOR1', 'MALTORbro', 'MALTRI', 'MALTSC', 'MALgol', 'MALred',\n",
      "       'METGLY', 'NOTANT', 'PARPER', 'PAUTOM', 'PICABI', 'PINNIGlar',\n",
      "       'PINNIGnig', 'PINSYL', 'PINWAL', 'PLAACE', 'POPALB', 'POPCAN',\n",
      "       'POPEURrob', 'POPNIG', 'POPNIGita', 'POPSIM', 'POPTRE', 'PRU',\n",
      "       'PRUAVI', 'PRUAVIbea', 'PRUAVIbig', 'PRUAVImar', 'PRUCER',\n",
      "       'PRUCERbig', 'PRUCERbig1', 'PRUCERbig2', 'PRUCERcoe', 'PRUCERpis',\n",
      "       'PRUDOMals', 'PRUDOMcha', 'PRUDOMmir', 'PRUDOMmon', 'PRUDOMrei',\n",
      "       'PRUDOMrei1', 'PRUDOMrei2', 'PRUDOMrei3', 'PRULAU', 'PRUMAAamb',\n",
      "       'PRUPERnuc', 'PRUSER', 'PRUSERama', 'PRUSERfas', 'PRUSERkan',\n",
      "       'PRUSERpen', 'PRUSUBaut', 'PSEMEN', 'PYRCAL', 'PYRCALcha',\n",
      "       'PYRCOM', 'PYRCOMcon', 'PYRCOMdoy', 'QUEBIC', 'QUECAS', 'QUECER',\n",
      "       'QUECOC', 'QUEELL', 'QUEILE', 'QUEMAC', 'QUEPAL', 'QUEPET',\n",
      "       'QUEROB', 'QUEROBfas', 'QUERUB', 'QUESHU', 'RHUTYP', 'ROBPSE',\n",
      "       'ROBPSEfri', 'SALALB', 'SALALBche', 'SALBAB', 'SALCAP', 'SAMNIG',\n",
      "       'SEQGIG', 'SOPJAP', 'SOPJAPpen', 'SORALB', 'SORARI', 'SORARIlut',\n",
      "       'SORAUC', 'SORTOR', 'TAMGAL', 'TAXBAC', 'TAXBACfas', 'TAXDIS',\n",
      "       'THUPLI', 'THUPLIatr', 'THUPLIzeb', 'TILCOR', 'TILEUR', 'TILHEN',\n",
      "       'TILPLA', 'TILTOM', 'ULMJAP', 'ULMMIN', 'ULMRES', 'ULMRESreb',\n",
      "       'ULMRESsap'], dtype=object)]\n"
     ]
    }
   ],
   "execution_count": 523
  },
  {
   "metadata": {},
   "cell_type": "markdown",
   "source": "Split des données",
   "id": "17b65038b631b062"
  },
  {
   "metadata": {
    "ExecuteTime": {
     "end_time": "2024-06-17T16:45:07.401671Z",
     "start_time": "2024-06-17T16:45:07.398934Z"
    }
   },
   "cell_type": "code",
   "source": "all_cols_list = [\"haut_tot\", 'haut_tronc', 'tronc_diam', 'fk_stadedev', 'age_estim', 'clc_quartier', 'clc_secteur', 'feuillage', 'fk_port', 'fk_situation', 'fk_nomtech']",
   "id": "9989a60a4c7f8d35",
   "outputs": [],
   "execution_count": 524
  },
  {
   "metadata": {
    "ExecuteTime": {
     "end_time": "2024-06-17T16:45:07.422374Z",
     "start_time": "2024-06-17T16:45:07.411730Z"
    }
   },
   "cell_type": "code",
   "source": "X_train, X_test, y_train, y_test = model_selection.train_test_split(data[all_cols_list], data[\"fk_arb_etat_bool\"], test_size=0.2, random_state=42)",
   "id": "ed029bebeff36f6",
   "outputs": [],
   "execution_count": 525
  },
  {
   "metadata": {
    "ExecuteTime": {
     "end_time": "2024-06-17T16:45:26.789011Z",
     "start_time": "2024-06-17T16:45:07.481411Z"
    }
   },
   "cell_type": "code",
   "source": [
    "# train\n",
    "classifier = RandomForestClassifier(random_state=42, n_jobs=-1)\n",
    "params = {\"n_estimators\": [50, 100, 150, 200, 250, 300]}\n",
    "gscv = GridSearchCV(estimator=classifier, param_grid=params, scoring=\"accuracy\", cv=5, n_jobs=-1)\n",
    "classifier_with_grid_search = gscv.fit(X_train, y_train)  # le meilleur modele\n",
    "\n",
    "print(classifier_with_grid_search.best_params_)\n",
    "from sklearn.metrics import accuracy_score\n",
    "cvs = cross_val_predict(gscv, X_train, y_train, cv = 3, n_jobs=-1)\n",
    "\n",
    "best_n = classifier_with_grid_search.best_params_[\"n_estimators\"]\n",
    "best_n\n",
    "\n",
    "\n"
   ],
   "id": "fdcf2960b700f695",
   "outputs": [
    {
     "name": "stdout",
     "output_type": "stream",
     "text": [
      "{'n_estimators': 250}\n"
     ]
    },
    {
     "data": {
      "text/plain": [
       "250"
      ]
     },
     "execution_count": 526,
     "metadata": {},
     "output_type": "execute_result"
    }
   ],
   "execution_count": 526
  },
  {
   "metadata": {
    "ExecuteTime": {
     "end_time": "2024-06-17T16:45:26.798772Z",
     "start_time": "2024-06-17T16:45:26.790022Z"
    }
   },
   "cell_type": "code",
   "source": "confusion_matrix(y_train, cvs, normalize=\"true\")",
   "id": "af698ce1b602ee6e",
   "outputs": [
    {
     "data": {
      "text/plain": [
       "array([[0.15      , 0.85      ],\n",
       "       [0.00345602, 0.99654398]])"
      ]
     },
     "execution_count": 527,
     "metadata": {},
     "output_type": "execute_result"
    }
   ],
   "execution_count": 527
  },
  {
   "metadata": {},
   "cell_type": "markdown",
   "source": "On constate que la matrice de confusion est pas bonne, pas du tout satisfaisante",
   "id": "5f349b396957f0af"
  },
  {
   "metadata": {
    "ExecuteTime": {
     "end_time": "2024-06-17T16:45:26.801765Z",
     "start_time": "2024-06-17T16:45:26.798772Z"
    }
   },
   "cell_type": "code",
   "source": [
    "# TEST (meme si pas besoion car modele pas validé)\n",
    "# y_test_predicted = classifier_with_grid_search.predict(X_test)\n",
    "# accuracy_score(y_test, y_test_predicted)"
   ],
   "id": "5730f41fcf30eaeb",
   "outputs": [],
   "execution_count": 528
  },
  {
   "metadata": {},
   "cell_type": "markdown",
   "source": "Feature Selection",
   "id": "c415327108d0c277"
  },
  {
   "metadata": {
    "ExecuteTime": {
     "end_time": "2024-06-17T16:45:26.805835Z",
     "start_time": "2024-06-17T16:45:26.802773Z"
    }
   },
   "cell_type": "code",
   "source": "all_cols_list = [\"haut_tot\", 'haut_tronc', 'tronc_diam', 'fk_stadedev', 'age_estim', 'clc_quartier', 'clc_secteur', 'feuillage', 'fk_port', 'fk_situation', 'fk_nomtech']",
   "id": "322130264f6b3058",
   "outputs": [],
   "execution_count": 529
  },
  {
   "metadata": {
    "ExecuteTime": {
     "end_time": "2024-06-17T16:45:26.822112Z",
     "start_time": "2024-06-17T16:45:26.805835Z"
    }
   },
   "cell_type": "code",
   "source": [
    "list_col = ['fk_stadedev', 'fk_arb_etat', 'fk_arb_etat_bool', 'clc_quartier', 'clc_secteur', 'feuillage', 'fk_port', 'fk_situation', 'fk_nomtech']\n",
    "for col in list_col:\n",
    "  encoder = preprocessing.OrdinalEncoder()\n",
    "  fk_stadedev_encoded = encoder.fit_transform(data[[col]])\n",
    "  #print(encoder.categories_)\n",
    "  data[col] = fk_stadedev_encoded"
   ],
   "id": "bf6fc6ea48cb4ec9",
   "outputs": [],
   "execution_count": 530
  },
  {
   "metadata": {
    "ExecuteTime": {
     "end_time": "2024-06-17T16:45:27.179597Z",
     "start_time": "2024-06-17T16:45:26.823129Z"
    }
   },
   "cell_type": "code",
   "source": [
    "# Train the Random Forest model\n",
    "rf = RandomForestClassifier(n_estimators=100, random_state=42)\n",
    "rf.fit(X_train, y_train)\n",
    "\n",
    "# Evaluate the model\n",
    "accuracy_before = rf.score(X_test, y_test)"
   ],
   "id": "5841390c0f54e463",
   "outputs": [],
   "execution_count": 531
  },
  {
   "metadata": {
    "ExecuteTime": {
     "end_time": "2024-06-17T16:45:27.183836Z",
     "start_time": "2024-06-17T16:45:27.180662Z"
    }
   },
   "cell_type": "code",
   "source": "accuracy_before",
   "id": "bce870059c284603",
   "outputs": [
    {
     "data": {
      "text/plain": [
       "0.979757085020243"
      ]
     },
     "execution_count": 532,
     "metadata": {},
     "output_type": "execute_result"
    }
   ],
   "execution_count": 532
  },
  {
   "metadata": {
    "ExecuteTime": {
     "end_time": "2024-06-17T16:45:27.195579Z",
     "start_time": "2024-06-17T16:45:27.184844Z"
    }
   },
   "cell_type": "code",
   "source": [
    "importances = rf.feature_importances_\n",
    "feature_names = data[all_cols_list].columns\n",
    "\n",
    "feature_importance_df = pd.DataFrame({'Feature': feature_names, 'Importance': importances})\n",
    "feature_importance_df"
   ],
   "id": "26bd00c486394c06",
   "outputs": [
    {
     "data": {
      "text/plain": [
       "         Feature  Importance\n",
       "0       haut_tot    0.151611\n",
       "1     haut_tronc    0.112041\n",
       "2     tronc_diam    0.268431\n",
       "3    fk_stadedev    0.013490\n",
       "4      age_estim    0.073595\n",
       "5   clc_quartier    0.060569\n",
       "6    clc_secteur    0.129609\n",
       "7      feuillage    0.011906\n",
       "8        fk_port    0.024605\n",
       "9   fk_situation    0.030371\n",
       "10    fk_nomtech    0.123771"
      ],
      "text/html": [
       "<div>\n",
       "<style scoped>\n",
       "    .dataframe tbody tr th:only-of-type {\n",
       "        vertical-align: middle;\n",
       "    }\n",
       "\n",
       "    .dataframe tbody tr th {\n",
       "        vertical-align: top;\n",
       "    }\n",
       "\n",
       "    .dataframe thead th {\n",
       "        text-align: right;\n",
       "    }\n",
       "</style>\n",
       "<table border=\"1\" class=\"dataframe\">\n",
       "  <thead>\n",
       "    <tr style=\"text-align: right;\">\n",
       "      <th></th>\n",
       "      <th>Feature</th>\n",
       "      <th>Importance</th>\n",
       "    </tr>\n",
       "  </thead>\n",
       "  <tbody>\n",
       "    <tr>\n",
       "      <th>0</th>\n",
       "      <td>haut_tot</td>\n",
       "      <td>0.151611</td>\n",
       "    </tr>\n",
       "    <tr>\n",
       "      <th>1</th>\n",
       "      <td>haut_tronc</td>\n",
       "      <td>0.112041</td>\n",
       "    </tr>\n",
       "    <tr>\n",
       "      <th>2</th>\n",
       "      <td>tronc_diam</td>\n",
       "      <td>0.268431</td>\n",
       "    </tr>\n",
       "    <tr>\n",
       "      <th>3</th>\n",
       "      <td>fk_stadedev</td>\n",
       "      <td>0.013490</td>\n",
       "    </tr>\n",
       "    <tr>\n",
       "      <th>4</th>\n",
       "      <td>age_estim</td>\n",
       "      <td>0.073595</td>\n",
       "    </tr>\n",
       "    <tr>\n",
       "      <th>5</th>\n",
       "      <td>clc_quartier</td>\n",
       "      <td>0.060569</td>\n",
       "    </tr>\n",
       "    <tr>\n",
       "      <th>6</th>\n",
       "      <td>clc_secteur</td>\n",
       "      <td>0.129609</td>\n",
       "    </tr>\n",
       "    <tr>\n",
       "      <th>7</th>\n",
       "      <td>feuillage</td>\n",
       "      <td>0.011906</td>\n",
       "    </tr>\n",
       "    <tr>\n",
       "      <th>8</th>\n",
       "      <td>fk_port</td>\n",
       "      <td>0.024605</td>\n",
       "    </tr>\n",
       "    <tr>\n",
       "      <th>9</th>\n",
       "      <td>fk_situation</td>\n",
       "      <td>0.030371</td>\n",
       "    </tr>\n",
       "    <tr>\n",
       "      <th>10</th>\n",
       "      <td>fk_nomtech</td>\n",
       "      <td>0.123771</td>\n",
       "    </tr>\n",
       "  </tbody>\n",
       "</table>\n",
       "</div>"
      ]
     },
     "execution_count": 533,
     "metadata": {},
     "output_type": "execute_result"
    }
   ],
   "execution_count": 533
  },
  {
   "metadata": {
    "ExecuteTime": {
     "end_time": "2024-06-17T16:45:27.201218Z",
     "start_time": "2024-06-17T16:45:27.195579Z"
    }
   },
   "cell_type": "code",
   "source": [
    "# Rank features by importance\n",
    "feature_importance_df = feature_importance_df.sort_values(by='Importance', ascending=False)\n",
    "print(feature_importance_df)"
   ],
   "id": "24b19a7c0c0c14c5",
   "outputs": [
    {
     "name": "stdout",
     "output_type": "stream",
     "text": [
      "         Feature  Importance\n",
      "2     tronc_diam    0.268431\n",
      "0       haut_tot    0.151611\n",
      "6    clc_secteur    0.129609\n",
      "10    fk_nomtech    0.123771\n",
      "1     haut_tronc    0.112041\n",
      "4      age_estim    0.073595\n",
      "5   clc_quartier    0.060569\n",
      "9   fk_situation    0.030371\n",
      "8        fk_port    0.024605\n",
      "3    fk_stadedev    0.013490\n",
      "7      feuillage    0.011906\n"
     ]
    }
   ],
   "execution_count": 534
  },
  {
   "metadata": {
    "ExecuteTime": {
     "end_time": "2024-06-17T16:45:27.207507Z",
     "start_time": "2024-06-17T16:45:27.202276Z"
    }
   },
   "cell_type": "code",
   "source": [
    "# Select top N features (example selecting top 5 features)\n",
    "top_features = feature_importance_df['Feature'][:5].values\n",
    "X_train_selected = X_train[top_features]\n",
    "X_test_selected = X_test[top_features]"
   ],
   "id": "c101d26214888854",
   "outputs": [],
   "execution_count": 535
  },
  {
   "metadata": {
    "ExecuteTime": {
     "end_time": "2024-06-17T16:45:27.658110Z",
     "start_time": "2024-06-17T16:45:27.208581Z"
    }
   },
   "cell_type": "code",
   "source": [
    "# Train the Random Forest model with selected features\n",
    "start_time = time.time()\n",
    "rf_selected = RandomForestClassifier(n_estimators=best_n, random_state=42, n_jobs=-1)\n",
    "rf_selected.fit(X_train_selected, y_train)\n",
    "end_time = time.time()\n",
    "y_test_predicted = rf_selected.predict(X_test_selected)\n"
   ],
   "id": "c9d12503b7653151",
   "outputs": [],
   "execution_count": 536
  },
  {
   "metadata": {
    "ExecuteTime": {
     "end_time": "2024-06-17T16:45:34.845965Z",
     "start_time": "2024-06-17T16:45:27.659124Z"
    }
   },
   "cell_type": "code",
   "source": [
    "# validation\n",
    "from sklearn.metrics import accuracy_score\n",
    "cvs = cross_val_predict(gscv, X_train, y_train, cv = 3, n_jobs=-1)\n",
    "confusion_matrix(y_train, cvs, normalize=\"true\")\n"
   ],
   "id": "63a3076da2f12f98",
   "outputs": [
    {
     "data": {
      "text/plain": [
       "array([[0.15      , 0.85      ],\n",
       "       [0.00345602, 0.99654398]])"
      ]
     },
     "execution_count": 537,
     "metadata": {},
     "output_type": "execute_result"
    }
   ],
   "execution_count": 537
  },
  {
   "metadata": {
    "ExecuteTime": {
     "end_time": "2024-06-17T16:45:34.849973Z",
     "start_time": "2024-06-17T16:45:34.845965Z"
    }
   },
   "cell_type": "code",
   "source": [
    "# TEST\n",
    "#accuracy_after = rf_selected.score(X_test_selected, y_test)\n",
    "print(f'Accuracy after feature selection: {accuracy_score(y_test, y_test_predicted):.3f}')\n",
    "\n",
    "print(f'Temps écoulé : {end_time - start_time :.3f} secondes.')"
   ],
   "id": "f128ab56f4878b95",
   "outputs": [
    {
     "name": "stdout",
     "output_type": "stream",
     "text": [
      "Accuracy after feature selection: 0.980\n",
      "Temps écoulé : 0.396 secondes.\n"
     ]
    }
   ],
   "execution_count": 538
  },
  {
   "metadata": {},
   "cell_type": "markdown",
   "source": "Résultats de matrice de confusion très mauvais, trop grand déséquilibre entre les essouchés et les non essouchés",
   "id": "6839b4d11db683fb"
  },
  {
   "metadata": {},
   "cell_type": "markdown",
   "source": "# SMOTE",
   "id": "b3498240b350cb0a"
  },
  {
   "metadata": {},
   "cell_type": "markdown",
   "source": "On va utiliser SMOTE pour ajouter artificiellement des essouchés",
   "id": "af757b7336675d07"
  },
  {
   "metadata": {
    "ExecuteTime": {
     "end_time": "2024-06-17T16:45:34.856898Z",
     "start_time": "2024-06-17T16:45:34.850479Z"
    }
   },
   "cell_type": "code",
   "source": "from imblearn.over_sampling import SMOTE",
   "id": "729618a2f5753194",
   "outputs": [],
   "execution_count": 539
  },
  {
   "metadata": {
    "ExecuteTime": {
     "end_time": "2024-06-17T16:45:34.876825Z",
     "start_time": "2024-06-17T16:45:34.858025Z"
    }
   },
   "cell_type": "code",
   "source": "data",
   "id": "1f379e93033e87b4",
   "outputs": [
    {
     "data": {
      "text/plain": [
       "      longitude   latitude  clc_quartier  clc_secteur  haut_tot  haut_tronc   \n",
       "0      3.293264  49.840500           7.0        112.0       6.0         2.0  \\\n",
       "1      3.273380  49.861409           8.0        228.0      13.0         1.0   \n",
       "2      3.289068  49.844513           7.0        166.0      12.0         3.0   \n",
       "3      3.302387  49.861778           6.0        225.0      16.0         3.0   \n",
       "4      3.304047  49.858446           6.0          4.0       5.0         2.0   \n",
       "...         ...        ...           ...          ...       ...         ...   \n",
       "7404   3.283505  49.848695           7.0        103.0       3.0         2.0   \n",
       "7405   3.283436  49.848682           7.0        103.0       3.0         2.0   \n",
       "7406   3.297078  49.860413           6.0        238.0       3.0         2.0   \n",
       "7407   3.291685  49.848009           7.0        226.0       3.0         2.0   \n",
       "7408   3.301788  49.861503           6.0        239.0       3.0         2.0   \n",
       "\n",
       "      tronc_diam  fk_arb_etat  fk_stadedev  fk_port  ... fk_situation   \n",
       "0           37.0          1.0          1.0      8.0  ...          0.0  \\\n",
       "1          160.0          1.0          0.0      8.0  ...          1.0   \n",
       "2          116.0          4.0          0.0      8.0  ...          0.0   \n",
       "3          150.0          1.0          0.0      8.0  ...          1.0   \n",
       "4          170.0          2.0          0.0      6.0  ...          2.0   \n",
       "...          ...          ...          ...      ...  ...          ...   \n",
       "7404        15.0          1.0          1.0      1.0  ...          2.0   \n",
       "7405        15.0          1.0          1.0      1.0  ...          2.0   \n",
       "7406        15.0          1.0          1.0      1.0  ...          2.0   \n",
       "7407        15.0          1.0          1.0      1.0  ...          0.0   \n",
       "7408        15.0          1.0          1.0      1.0  ...          2.0   \n",
       "\n",
       "      fk_revetement age_estim  fk_prec_estim  clc_nbr_diag  fk_nomtech   \n",
       "0               Non      15.0            5.0           0.0       185.0  \\\n",
       "1               Non      50.0           10.0           0.0       129.0   \n",
       "2               Non      30.0           10.0           0.0        20.0   \n",
       "3               Non      50.0            2.0           0.0        15.0   \n",
       "4               Non      40.0            2.0           0.0       192.0   \n",
       "...             ...       ...            ...           ...         ...   \n",
       "7404            Non       5.0            1.0           0.0        30.0   \n",
       "7405            Non       3.0            1.0           0.0        31.0   \n",
       "7406            Non       5.0            1.0           0.0        50.0   \n",
       "7407            Non       5.0            1.0           0.0        70.0   \n",
       "7408            Non       5.0            1.0           0.0        95.0   \n",
       "\n",
       "      villeca feuillage  remarquable fk_arb_etat_bool  \n",
       "0       VILLE       1.0          Non              1.0  \n",
       "1       VILLE       0.0          Non              1.0  \n",
       "2       VILLE       1.0          Non              1.0  \n",
       "3       VILLE       1.0          Non              1.0  \n",
       "4       VILLE       1.0          Non              0.0  \n",
       "...       ...       ...          ...              ...  \n",
       "7404    VILLE       1.0          Non              1.0  \n",
       "7405    VILLE       1.0          Non              1.0  \n",
       "7406    VILLE       0.0          Non              1.0  \n",
       "7407    VILLE       1.0          Non              1.0  \n",
       "7408    VILLE       1.0          Non              1.0  \n",
       "\n",
       "[7409 rows x 21 columns]"
      ],
      "text/html": [
       "<div>\n",
       "<style scoped>\n",
       "    .dataframe tbody tr th:only-of-type {\n",
       "        vertical-align: middle;\n",
       "    }\n",
       "\n",
       "    .dataframe tbody tr th {\n",
       "        vertical-align: top;\n",
       "    }\n",
       "\n",
       "    .dataframe thead th {\n",
       "        text-align: right;\n",
       "    }\n",
       "</style>\n",
       "<table border=\"1\" class=\"dataframe\">\n",
       "  <thead>\n",
       "    <tr style=\"text-align: right;\">\n",
       "      <th></th>\n",
       "      <th>longitude</th>\n",
       "      <th>latitude</th>\n",
       "      <th>clc_quartier</th>\n",
       "      <th>clc_secteur</th>\n",
       "      <th>haut_tot</th>\n",
       "      <th>haut_tronc</th>\n",
       "      <th>tronc_diam</th>\n",
       "      <th>fk_arb_etat</th>\n",
       "      <th>fk_stadedev</th>\n",
       "      <th>fk_port</th>\n",
       "      <th>...</th>\n",
       "      <th>fk_situation</th>\n",
       "      <th>fk_revetement</th>\n",
       "      <th>age_estim</th>\n",
       "      <th>fk_prec_estim</th>\n",
       "      <th>clc_nbr_diag</th>\n",
       "      <th>fk_nomtech</th>\n",
       "      <th>villeca</th>\n",
       "      <th>feuillage</th>\n",
       "      <th>remarquable</th>\n",
       "      <th>fk_arb_etat_bool</th>\n",
       "    </tr>\n",
       "  </thead>\n",
       "  <tbody>\n",
       "    <tr>\n",
       "      <th>0</th>\n",
       "      <td>3.293264</td>\n",
       "      <td>49.840500</td>\n",
       "      <td>7.0</td>\n",
       "      <td>112.0</td>\n",
       "      <td>6.0</td>\n",
       "      <td>2.0</td>\n",
       "      <td>37.0</td>\n",
       "      <td>1.0</td>\n",
       "      <td>1.0</td>\n",
       "      <td>8.0</td>\n",
       "      <td>...</td>\n",
       "      <td>0.0</td>\n",
       "      <td>Non</td>\n",
       "      <td>15.0</td>\n",
       "      <td>5.0</td>\n",
       "      <td>0.0</td>\n",
       "      <td>185.0</td>\n",
       "      <td>VILLE</td>\n",
       "      <td>1.0</td>\n",
       "      <td>Non</td>\n",
       "      <td>1.0</td>\n",
       "    </tr>\n",
       "    <tr>\n",
       "      <th>1</th>\n",
       "      <td>3.273380</td>\n",
       "      <td>49.861409</td>\n",
       "      <td>8.0</td>\n",
       "      <td>228.0</td>\n",
       "      <td>13.0</td>\n",
       "      <td>1.0</td>\n",
       "      <td>160.0</td>\n",
       "      <td>1.0</td>\n",
       "      <td>0.0</td>\n",
       "      <td>8.0</td>\n",
       "      <td>...</td>\n",
       "      <td>1.0</td>\n",
       "      <td>Non</td>\n",
       "      <td>50.0</td>\n",
       "      <td>10.0</td>\n",
       "      <td>0.0</td>\n",
       "      <td>129.0</td>\n",
       "      <td>VILLE</td>\n",
       "      <td>0.0</td>\n",
       "      <td>Non</td>\n",
       "      <td>1.0</td>\n",
       "    </tr>\n",
       "    <tr>\n",
       "      <th>2</th>\n",
       "      <td>3.289068</td>\n",
       "      <td>49.844513</td>\n",
       "      <td>7.0</td>\n",
       "      <td>166.0</td>\n",
       "      <td>12.0</td>\n",
       "      <td>3.0</td>\n",
       "      <td>116.0</td>\n",
       "      <td>4.0</td>\n",
       "      <td>0.0</td>\n",
       "      <td>8.0</td>\n",
       "      <td>...</td>\n",
       "      <td>0.0</td>\n",
       "      <td>Non</td>\n",
       "      <td>30.0</td>\n",
       "      <td>10.0</td>\n",
       "      <td>0.0</td>\n",
       "      <td>20.0</td>\n",
       "      <td>VILLE</td>\n",
       "      <td>1.0</td>\n",
       "      <td>Non</td>\n",
       "      <td>1.0</td>\n",
       "    </tr>\n",
       "    <tr>\n",
       "      <th>3</th>\n",
       "      <td>3.302387</td>\n",
       "      <td>49.861778</td>\n",
       "      <td>6.0</td>\n",
       "      <td>225.0</td>\n",
       "      <td>16.0</td>\n",
       "      <td>3.0</td>\n",
       "      <td>150.0</td>\n",
       "      <td>1.0</td>\n",
       "      <td>0.0</td>\n",
       "      <td>8.0</td>\n",
       "      <td>...</td>\n",
       "      <td>1.0</td>\n",
       "      <td>Non</td>\n",
       "      <td>50.0</td>\n",
       "      <td>2.0</td>\n",
       "      <td>0.0</td>\n",
       "      <td>15.0</td>\n",
       "      <td>VILLE</td>\n",
       "      <td>1.0</td>\n",
       "      <td>Non</td>\n",
       "      <td>1.0</td>\n",
       "    </tr>\n",
       "    <tr>\n",
       "      <th>4</th>\n",
       "      <td>3.304047</td>\n",
       "      <td>49.858446</td>\n",
       "      <td>6.0</td>\n",
       "      <td>4.0</td>\n",
       "      <td>5.0</td>\n",
       "      <td>2.0</td>\n",
       "      <td>170.0</td>\n",
       "      <td>2.0</td>\n",
       "      <td>0.0</td>\n",
       "      <td>6.0</td>\n",
       "      <td>...</td>\n",
       "      <td>2.0</td>\n",
       "      <td>Non</td>\n",
       "      <td>40.0</td>\n",
       "      <td>2.0</td>\n",
       "      <td>0.0</td>\n",
       "      <td>192.0</td>\n",
       "      <td>VILLE</td>\n",
       "      <td>1.0</td>\n",
       "      <td>Non</td>\n",
       "      <td>0.0</td>\n",
       "    </tr>\n",
       "    <tr>\n",
       "      <th>...</th>\n",
       "      <td>...</td>\n",
       "      <td>...</td>\n",
       "      <td>...</td>\n",
       "      <td>...</td>\n",
       "      <td>...</td>\n",
       "      <td>...</td>\n",
       "      <td>...</td>\n",
       "      <td>...</td>\n",
       "      <td>...</td>\n",
       "      <td>...</td>\n",
       "      <td>...</td>\n",
       "      <td>...</td>\n",
       "      <td>...</td>\n",
       "      <td>...</td>\n",
       "      <td>...</td>\n",
       "      <td>...</td>\n",
       "      <td>...</td>\n",
       "      <td>...</td>\n",
       "      <td>...</td>\n",
       "      <td>...</td>\n",
       "      <td>...</td>\n",
       "    </tr>\n",
       "    <tr>\n",
       "      <th>7404</th>\n",
       "      <td>3.283505</td>\n",
       "      <td>49.848695</td>\n",
       "      <td>7.0</td>\n",
       "      <td>103.0</td>\n",
       "      <td>3.0</td>\n",
       "      <td>2.0</td>\n",
       "      <td>15.0</td>\n",
       "      <td>1.0</td>\n",
       "      <td>1.0</td>\n",
       "      <td>1.0</td>\n",
       "      <td>...</td>\n",
       "      <td>2.0</td>\n",
       "      <td>Non</td>\n",
       "      <td>5.0</td>\n",
       "      <td>1.0</td>\n",
       "      <td>0.0</td>\n",
       "      <td>30.0</td>\n",
       "      <td>VILLE</td>\n",
       "      <td>1.0</td>\n",
       "      <td>Non</td>\n",
       "      <td>1.0</td>\n",
       "    </tr>\n",
       "    <tr>\n",
       "      <th>7405</th>\n",
       "      <td>3.283436</td>\n",
       "      <td>49.848682</td>\n",
       "      <td>7.0</td>\n",
       "      <td>103.0</td>\n",
       "      <td>3.0</td>\n",
       "      <td>2.0</td>\n",
       "      <td>15.0</td>\n",
       "      <td>1.0</td>\n",
       "      <td>1.0</td>\n",
       "      <td>1.0</td>\n",
       "      <td>...</td>\n",
       "      <td>2.0</td>\n",
       "      <td>Non</td>\n",
       "      <td>3.0</td>\n",
       "      <td>1.0</td>\n",
       "      <td>0.0</td>\n",
       "      <td>31.0</td>\n",
       "      <td>VILLE</td>\n",
       "      <td>1.0</td>\n",
       "      <td>Non</td>\n",
       "      <td>1.0</td>\n",
       "    </tr>\n",
       "    <tr>\n",
       "      <th>7406</th>\n",
       "      <td>3.297078</td>\n",
       "      <td>49.860413</td>\n",
       "      <td>6.0</td>\n",
       "      <td>238.0</td>\n",
       "      <td>3.0</td>\n",
       "      <td>2.0</td>\n",
       "      <td>15.0</td>\n",
       "      <td>1.0</td>\n",
       "      <td>1.0</td>\n",
       "      <td>1.0</td>\n",
       "      <td>...</td>\n",
       "      <td>2.0</td>\n",
       "      <td>Non</td>\n",
       "      <td>5.0</td>\n",
       "      <td>1.0</td>\n",
       "      <td>0.0</td>\n",
       "      <td>50.0</td>\n",
       "      <td>VILLE</td>\n",
       "      <td>0.0</td>\n",
       "      <td>Non</td>\n",
       "      <td>1.0</td>\n",
       "    </tr>\n",
       "    <tr>\n",
       "      <th>7407</th>\n",
       "      <td>3.291685</td>\n",
       "      <td>49.848009</td>\n",
       "      <td>7.0</td>\n",
       "      <td>226.0</td>\n",
       "      <td>3.0</td>\n",
       "      <td>2.0</td>\n",
       "      <td>15.0</td>\n",
       "      <td>1.0</td>\n",
       "      <td>1.0</td>\n",
       "      <td>1.0</td>\n",
       "      <td>...</td>\n",
       "      <td>0.0</td>\n",
       "      <td>Non</td>\n",
       "      <td>5.0</td>\n",
       "      <td>1.0</td>\n",
       "      <td>0.0</td>\n",
       "      <td>70.0</td>\n",
       "      <td>VILLE</td>\n",
       "      <td>1.0</td>\n",
       "      <td>Non</td>\n",
       "      <td>1.0</td>\n",
       "    </tr>\n",
       "    <tr>\n",
       "      <th>7408</th>\n",
       "      <td>3.301788</td>\n",
       "      <td>49.861503</td>\n",
       "      <td>6.0</td>\n",
       "      <td>239.0</td>\n",
       "      <td>3.0</td>\n",
       "      <td>2.0</td>\n",
       "      <td>15.0</td>\n",
       "      <td>1.0</td>\n",
       "      <td>1.0</td>\n",
       "      <td>1.0</td>\n",
       "      <td>...</td>\n",
       "      <td>2.0</td>\n",
       "      <td>Non</td>\n",
       "      <td>5.0</td>\n",
       "      <td>1.0</td>\n",
       "      <td>0.0</td>\n",
       "      <td>95.0</td>\n",
       "      <td>VILLE</td>\n",
       "      <td>1.0</td>\n",
       "      <td>Non</td>\n",
       "      <td>1.0</td>\n",
       "    </tr>\n",
       "  </tbody>\n",
       "</table>\n",
       "<p>7409 rows × 21 columns</p>\n",
       "</div>"
      ]
     },
     "execution_count": 540,
     "metadata": {},
     "output_type": "execute_result"
    }
   ],
   "execution_count": 540
  },
  {
   "metadata": {},
   "cell_type": "markdown",
   "source": "Split des données en train et test",
   "id": "8d8929b43f6397b9"
  },
  {
   "metadata": {
    "ExecuteTime": {
     "end_time": "2024-06-17T16:45:34.889411Z",
     "start_time": "2024-06-17T16:45:34.876825Z"
    }
   },
   "cell_type": "code",
   "source": [
    "sm = SMOTE(random_state=42)\n",
    "X_smoted, y_smoted = sm.fit_resample(X_train_selected, y_train)"
   ],
   "id": "739c0a1a352f72fe",
   "outputs": [],
   "execution_count": 541
  },
  {
   "metadata": {
    "ExecuteTime": {
     "end_time": "2024-06-17T16:45:34.896450Z",
     "start_time": "2024-06-17T16:45:34.889411Z"
    }
   },
   "cell_type": "code",
   "source": "X_smoted",
   "id": "af597953b984a9be",
   "outputs": [
    {
     "data": {
      "text/plain": [
       "       tronc_diam   haut_tot  clc_secteur  fk_nomtech  haut_tronc\n",
       "0      110.000000  13.000000    90.000000   20.000000    2.000000\n",
       "1      115.000000  13.000000    34.000000   94.000000    2.000000\n",
       "2      113.000000  16.000000    82.000000  132.000000    5.000000\n",
       "3      165.000000  14.000000    10.000000   45.000000    2.000000\n",
       "4       80.000000   8.000000    14.000000  169.000000    3.000000\n",
       "...           ...        ...          ...         ...         ...\n",
       "11569  212.491436  25.000000    91.000000   17.491436   14.498287\n",
       "11570  139.231563  15.725313   209.342813   23.240625    2.175938\n",
       "11571   55.243118   8.054063    59.810724  142.621559    0.702709\n",
       "11572  110.823308  17.050877   141.164662  129.000000    4.721554\n",
       "11573  236.856871  37.000000   146.000000  137.000000    4.000000\n",
       "\n",
       "[11574 rows x 5 columns]"
      ],
      "text/html": [
       "<div>\n",
       "<style scoped>\n",
       "    .dataframe tbody tr th:only-of-type {\n",
       "        vertical-align: middle;\n",
       "    }\n",
       "\n",
       "    .dataframe tbody tr th {\n",
       "        vertical-align: top;\n",
       "    }\n",
       "\n",
       "    .dataframe thead th {\n",
       "        text-align: right;\n",
       "    }\n",
       "</style>\n",
       "<table border=\"1\" class=\"dataframe\">\n",
       "  <thead>\n",
       "    <tr style=\"text-align: right;\">\n",
       "      <th></th>\n",
       "      <th>tronc_diam</th>\n",
       "      <th>haut_tot</th>\n",
       "      <th>clc_secteur</th>\n",
       "      <th>fk_nomtech</th>\n",
       "      <th>haut_tronc</th>\n",
       "    </tr>\n",
       "  </thead>\n",
       "  <tbody>\n",
       "    <tr>\n",
       "      <th>0</th>\n",
       "      <td>110.000000</td>\n",
       "      <td>13.000000</td>\n",
       "      <td>90.000000</td>\n",
       "      <td>20.000000</td>\n",
       "      <td>2.000000</td>\n",
       "    </tr>\n",
       "    <tr>\n",
       "      <th>1</th>\n",
       "      <td>115.000000</td>\n",
       "      <td>13.000000</td>\n",
       "      <td>34.000000</td>\n",
       "      <td>94.000000</td>\n",
       "      <td>2.000000</td>\n",
       "    </tr>\n",
       "    <tr>\n",
       "      <th>2</th>\n",
       "      <td>113.000000</td>\n",
       "      <td>16.000000</td>\n",
       "      <td>82.000000</td>\n",
       "      <td>132.000000</td>\n",
       "      <td>5.000000</td>\n",
       "    </tr>\n",
       "    <tr>\n",
       "      <th>3</th>\n",
       "      <td>165.000000</td>\n",
       "      <td>14.000000</td>\n",
       "      <td>10.000000</td>\n",
       "      <td>45.000000</td>\n",
       "      <td>2.000000</td>\n",
       "    </tr>\n",
       "    <tr>\n",
       "      <th>4</th>\n",
       "      <td>80.000000</td>\n",
       "      <td>8.000000</td>\n",
       "      <td>14.000000</td>\n",
       "      <td>169.000000</td>\n",
       "      <td>3.000000</td>\n",
       "    </tr>\n",
       "    <tr>\n",
       "      <th>...</th>\n",
       "      <td>...</td>\n",
       "      <td>...</td>\n",
       "      <td>...</td>\n",
       "      <td>...</td>\n",
       "      <td>...</td>\n",
       "    </tr>\n",
       "    <tr>\n",
       "      <th>11569</th>\n",
       "      <td>212.491436</td>\n",
       "      <td>25.000000</td>\n",
       "      <td>91.000000</td>\n",
       "      <td>17.491436</td>\n",
       "      <td>14.498287</td>\n",
       "    </tr>\n",
       "    <tr>\n",
       "      <th>11570</th>\n",
       "      <td>139.231563</td>\n",
       "      <td>15.725313</td>\n",
       "      <td>209.342813</td>\n",
       "      <td>23.240625</td>\n",
       "      <td>2.175938</td>\n",
       "    </tr>\n",
       "    <tr>\n",
       "      <th>11571</th>\n",
       "      <td>55.243118</td>\n",
       "      <td>8.054063</td>\n",
       "      <td>59.810724</td>\n",
       "      <td>142.621559</td>\n",
       "      <td>0.702709</td>\n",
       "    </tr>\n",
       "    <tr>\n",
       "      <th>11572</th>\n",
       "      <td>110.823308</td>\n",
       "      <td>17.050877</td>\n",
       "      <td>141.164662</td>\n",
       "      <td>129.000000</td>\n",
       "      <td>4.721554</td>\n",
       "    </tr>\n",
       "    <tr>\n",
       "      <th>11573</th>\n",
       "      <td>236.856871</td>\n",
       "      <td>37.000000</td>\n",
       "      <td>146.000000</td>\n",
       "      <td>137.000000</td>\n",
       "      <td>4.000000</td>\n",
       "    </tr>\n",
       "  </tbody>\n",
       "</table>\n",
       "<p>11574 rows × 5 columns</p>\n",
       "</div>"
      ]
     },
     "execution_count": 542,
     "metadata": {},
     "output_type": "execute_result"
    }
   ],
   "execution_count": 542
  },
  {
   "metadata": {
    "ExecuteTime": {
     "end_time": "2024-06-17T16:45:34.901646Z",
     "start_time": "2024-06-17T16:45:34.897522Z"
    }
   },
   "cell_type": "code",
   "source": "y_smoted",
   "id": "f725e232811e989b",
   "outputs": [
    {
     "data": {
      "text/plain": [
       "0        1.0\n",
       "1        1.0\n",
       "2        1.0\n",
       "3        1.0\n",
       "4        1.0\n",
       "        ... \n",
       "11569    0.0\n",
       "11570    0.0\n",
       "11571    0.0\n",
       "11572    0.0\n",
       "11573    0.0\n",
       "Name: fk_arb_etat_bool, Length: 11574, dtype: float64"
      ]
     },
     "execution_count": 543,
     "metadata": {},
     "output_type": "execute_result"
    }
   ],
   "execution_count": 543
  },
  {
   "metadata": {
    "ExecuteTime": {
     "end_time": "2024-06-17T16:45:35.429586Z",
     "start_time": "2024-06-17T16:45:34.902702Z"
    }
   },
   "cell_type": "code",
   "source": [
    "classifier = RandomForestClassifier(random_state=42, n_jobs=-1, n_estimators=best_n)\n",
    "classifier_with_grid_search_and_FS_and_SMOTE = classifier.fit(X_smoted, y_smoted)  # le meilleur modele"
   ],
   "id": "280bd55ff1127a3e",
   "outputs": [],
   "execution_count": 544
  },
  {
   "metadata": {},
   "cell_type": "markdown",
   "source": "Validation",
   "id": "e9b142cf0fbd958b"
  },
  {
   "metadata": {
    "ExecuteTime": {
     "end_time": "2024-06-17T16:45:35.432610Z",
     "start_time": "2024-06-17T16:45:35.429586Z"
    }
   },
   "cell_type": "code",
   "source": [
    "from sklearn.metrics import confusion_matrix\n",
    "from sklearn.model_selection import cross_val_predict, cross_val_score"
   ],
   "id": "faf7cab5868fc9c1",
   "outputs": [],
   "execution_count": 545
  },
  {
   "metadata": {
    "ExecuteTime": {
     "end_time": "2024-06-17T16:45:47.649214Z",
     "start_time": "2024-06-17T16:45:35.433618Z"
    }
   },
   "cell_type": "code",
   "source": [
    "cvs = cross_val_predict(gscv, X_smoted, y_smoted, cv = 3, n_jobs=-1)\n",
    "confusion_matrix(y_smoted, cvs, normalize=\"true\")"
   ],
   "id": "9dae76c65e19fc19",
   "outputs": [
    {
     "data": {
      "text/plain": [
       "array([[0.97909107, 0.02090893],\n",
       "       [0.01676171, 0.98323829]])"
      ]
     },
     "execution_count": 546,
     "metadata": {},
     "output_type": "execute_result"
    }
   ],
   "execution_count": 546
  },
  {
   "metadata": {
    "ExecuteTime": {
     "end_time": "2024-06-17T16:45:48.526696Z",
     "start_time": "2024-06-17T16:45:47.650282Z"
    }
   },
   "cell_type": "code",
   "source": "np.mean(cross_val_score(classifier, X_smoted, y_smoted, cv = 3, n_jobs=-1))",
   "id": "3ea04fdef9de6ff5",
   "outputs": [
    {
     "data": {
      "text/plain": [
       "0.981078278900985"
      ]
     },
     "execution_count": 547,
     "metadata": {},
     "output_type": "execute_result"
    }
   ],
   "execution_count": 547
  },
  {
   "metadata": {},
   "cell_type": "markdown",
   "source": "On peut rajouter ",
   "id": "5262b9835f973d4e"
  },
  {
   "metadata": {},
   "cell_type": "markdown",
   "source": "La matrice de confusion est satisfaisante, on passe aux tests.",
   "id": "599c04fd7998d38b"
  },
  {
   "metadata": {
    "ExecuteTime": {
     "end_time": "2024-06-17T16:45:48.572222Z",
     "start_time": "2024-06-17T16:45:48.526696Z"
    }
   },
   "cell_type": "code",
   "source": [
    "from sklearn.metrics import accuracy_score\n",
    "\n",
    "y_test_predicted = classifier_with_grid_search_and_FS_and_SMOTE.predict(X_test_selected)\n",
    "accuracy_score(y_test, y_test_predicted)"
   ],
   "id": "7441e43ae49ca4c4",
   "outputs": [
    {
     "data": {
      "text/plain": [
       "0.9723346828609987"
      ]
     },
     "execution_count": 548,
     "metadata": {},
     "output_type": "execute_result"
    }
   ],
   "execution_count": 548
  },
  {
   "metadata": {
    "ExecuteTime": {
     "end_time": "2024-06-17T16:45:48.617725Z",
     "start_time": "2024-06-17T16:45:48.572222Z"
    }
   },
   "cell_type": "code",
   "source": [
    "y_pred = classifier_with_grid_search_and_FS_and_SMOTE.predict(X_test_selected)\n",
    "confusion_matrix(y_test, y_pred, normalize=\"true\")"
   ],
   "id": "10b2a9527ff60faa",
   "outputs": [
    {
     "data": {
      "text/plain": [
       "array([[0.2       , 0.8       ],\n",
       "       [0.01441318, 0.98558682]])"
      ]
     },
     "execution_count": 549,
     "metadata": {},
     "output_type": "execute_result"
    }
   ],
   "execution_count": 549
  },
  {
   "metadata": {
    "ExecuteTime": {
     "end_time": "2024-06-17T16:45:48.621371Z",
     "start_time": "2024-06-17T16:45:48.617725Z"
    }
   },
   "cell_type": "code",
   "source": "y_pred",
   "id": "ca0248183f2e35f4",
   "outputs": [
    {
     "data": {
      "text/plain": [
       "array([1., 1., 1., ..., 1., 1., 1.])"
      ]
     },
     "execution_count": 550,
     "metadata": {},
     "output_type": "execute_result"
    }
   ],
   "execution_count": 550
  },
  {
   "metadata": {
    "ExecuteTime": {
     "end_time": "2024-06-17T16:45:48.625348Z",
     "start_time": "2024-06-17T16:45:48.621371Z"
    }
   },
   "cell_type": "code",
   "source": "data.columns",
   "id": "e93b3b00e0dc96b2",
   "outputs": [
    {
     "data": {
      "text/plain": [
       "Index(['longitude', 'latitude', 'clc_quartier', 'clc_secteur', 'haut_tot',\n",
       "       'haut_tronc', 'tronc_diam', 'fk_arb_etat', 'fk_stadedev', 'fk_port',\n",
       "       'fk_pied', 'fk_situation', 'fk_revetement', 'age_estim',\n",
       "       'fk_prec_estim', 'clc_nbr_diag', 'fk_nomtech', 'villeca', 'feuillage',\n",
       "       'remarquable', 'fk_arb_etat_bool'],\n",
       "      dtype='object')"
      ]
     },
     "execution_count": 551,
     "metadata": {},
     "output_type": "execute_result"
    }
   ],
   "execution_count": 551
  }
 ],
 "metadata": {
  "kernelspec": {
   "display_name": "Python 3",
   "language": "python",
   "name": "python3"
  },
  "language_info": {
   "codemirror_mode": {
    "name": "ipython",
    "version": 2
   },
   "file_extension": ".py",
   "mimetype": "text/x-python",
   "name": "python",
   "nbconvert_exporter": "python",
   "pygments_lexer": "ipython2",
   "version": "2.7.6"
  }
 },
 "nbformat": 4,
 "nbformat_minor": 5
}
